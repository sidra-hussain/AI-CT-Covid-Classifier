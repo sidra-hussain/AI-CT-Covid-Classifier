{
 "cells": [
  {
   "cell_type": "code",
   "execution_count": 1,
   "id": "3217e4ce-2292-4a96-9631-d73391cca7e8",
   "metadata": {},
   "outputs": [],
   "source": [
    "import pandas as pd\n",
    "import matplotlib.pyplot as plt\n",
    "\n",
    "# Load the dataset\n",
    "df = pd.read_csv('dataset/labels.csv')"
   ]
  },
  {
   "cell_type": "code",
   "execution_count": 2,
   "id": "94618c85-5721-44f5-8681-c8a93a2ebd26",
   "metadata": {},
   "outputs": [],
   "source": [
    "#labeling function for binary class labels\n",
    "def percent_to_label_binaryclass(p):\n",
    "    if p >= 80: #normal\n",
    "        return 0\n",
    "    elif p < 80: #not normal\n",
    "        return 1"
   ]
  },
  {
   "cell_type": "code",
   "execution_count": 3,
   "id": "e47d244b-dda4-4926-84df-61e9375a0574",
   "metadata": {},
   "outputs": [],
   "source": [
    "#labeling function for multiclass labels\n",
    "def percent_to_label_multiclass(p):\n",
    "    if p >= 80: #normal\n",
    "        return 0\n",
    "    elif 60 <= p < 80: #mild\n",
    "        return 1\n",
    "    elif 50 <= p < 60: #moderate\n",
    "        return 2\n",
    "    else:\n",
    "        return 3 #severe"
   ]
  },
  {
   "cell_type": "code",
   "execution_count": 4,
   "id": "9bf8fbec-28b0-419a-8dc7-bf00f1eea14e",
   "metadata": {},
   "outputs": [
    {
     "data": {
      "image/png": "[encoded data removed]",
      "text/plain": [
       "<Figure size 600x400 with 1 Axes>"
      ]
     },
     "metadata": {},
     "output_type": "display_data"
    }
   ],
   "source": [
    "#binary data analysis\n",
    "\n",
    "# Count each label type\n",
    "label_counts = df['label'].value_counts().sort_index()\n",
    "\n",
    "# Plot the bar chart\n",
    "plt.figure(figsize=(6, 4))\n",
    "label_counts.plot(kind='bar', color='skyblue', edgecolor='black')\n",
    "\n",
    "# Add count labels on top of each bar\n",
    "for i, count in enumerate(label_counts):\n",
    "    plt.text(i, count + 0.5, str(count), ha='center', va='bottom', fontsize=10)\n",
    "\n",
    "# Add labels and title\n",
    "plt.xlabel('Label')\n",
    "plt.ylabel('Count')\n",
    "plt.title('Label Distribution in Dataset')\n",
    "plt.xticks(rotation=0)\n",
    "plt.grid(axis='y', linestyle='--', alpha=0.7)\n",
    "\n",
    "# Show the plot\n",
    "plt.tight_layout()\n",
    "plt.show()"
   ]
  },
  {
   "cell_type": "code",
   "execution_count": null,
   "id": "a9608bf8",
   "metadata": {},
   "outputs": [],
   "source": [
    "#binary data analysis\n",
    "\n",
    "# Count each label type\n",
    "label_counts = df['label'].value_counts().sort_index()\n",
    "\n",
    "# Plot the bar chart\n",
    "plt.figure(figsize=(6, 4))\n",
    "label_counts.plot(kind='bar', color='skyblue', edgecolor='black')\n",
    "\n",
    "# Add count labels on top of each bar\n",
    "for i, count in enumerate(label_counts):\n",
    "    plt.text(i, count + 0.5, str(count), ha='center', va='bottom', fontsize=10)\n",
    "\n",
    "# Add labels and title\n",
    "plt.xlabel('Label')\n",
    "plt.ylabel('Count')\n",
    "plt.title('Label Distribution in Dataset')\n",
    "plt.xticks(rotation=0)\n",
    "plt.grid(axis='y', linestyle='--', alpha=0.7)\n",
    "\n",
    "# Show the plot\n",
    "plt.tight_layout()\n",
    "plt.show()"
   ]
  },
  {
   "cell_type": "code",
   "execution_count": null,
   "id": "163419b8-49a2-45c3-ae4d-df01106d630b",
   "metadata": {},
   "outputs": [],
   "source": [
    "#multi class data analysis\n",
    "closest_weeks_df['label'] = closest_weeks_df['Percent'].apply(percent_to_label_multiclass)"
   ]
  }
 ],
 "metadata": {
  "kernelspec": {
   "display_name": "mlct",
   "language": "python",
   "name": "python3"
  },
  "language_info": {
   "codemirror_mode": {
    "name": "ipython",
    "version": 3
   },
   "file_extension": ".py",
   "mimetype": "text/x-python",
   "name": "python",
   "nbconvert_exporter": "python",
   "pygments_lexer": "ipython3",
   "version": "3.10.18"
  }
 },
 "nbformat": 4,
 "nbformat_minor": 5
}
