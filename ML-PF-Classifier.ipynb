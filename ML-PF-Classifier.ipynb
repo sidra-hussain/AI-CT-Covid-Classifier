{
 "cells": [
  {
   "cell_type": "code",
   "execution_count": 1,
   "id": "beadffde-4389-42f0-9c44-d8e8153a5a5c",
   "metadata": {},
   "outputs": [
    {
     "name": "stdout",
     "output_type": "stream",
     "text": [
      "Requirement already satisfied: pydicom in /Users/Sidra/opt/anaconda3/envs/mlct/lib/python3.10/site-packages (3.0.1)\n",
      "Requirement already satisfied: SimpleITK in /Users/Sidra/opt/anaconda3/envs/mlct/lib/python3.10/site-packages (2.5.2)\n",
      "Requirement already satisfied: numpy in /Users/Sidra/opt/anaconda3/envs/mlct/lib/python3.10/site-packages (1.25.2)\n",
      "Note: you may need to restart the kernel to use updated packages.\n",
      "Requirement already satisfied: pylibjpeg in /Users/Sidra/opt/anaconda3/envs/mlct/lib/python3.10/site-packages (2.0.1)\n",
      "Collecting pylibjpeg-libjpeg\n",
      "  Using cached pylibjpeg_libjpeg-2.3.0-cp310-cp310-macosx_10_9_x86_64.whl.metadata (4.8 kB)\n",
      "Collecting pylibjpeg-openjpeg\n",
      "  Using cached pylibjpeg_openjpeg-2.4.0-cp310-cp310-macosx_10_9_x86_64.whl.metadata (5.7 kB)\n",
      "Requirement already satisfied: numpy in /Users/Sidra/opt/anaconda3/envs/mlct/lib/python3.10/site-packages (from pylibjpeg) (1.25.2)\n",
      "Collecting numpy (from pylibjpeg)\n",
      "  Using cached numpy-2.2.6-cp310-cp310-macosx_10_9_x86_64.whl.metadata (62 kB)\n",
      "Using cached pylibjpeg_libjpeg-2.3.0-cp310-cp310-macosx_10_9_x86_64.whl (677 kB)\n",
      "Using cached numpy-2.2.6-cp310-cp310-macosx_10_9_x86_64.whl (21.2 MB)\n",
      "Using cached pylibjpeg_openjpeg-2.4.0-cp310-cp310-macosx_10_9_x86_64.whl (305 kB)\n",
      "Installing collected packages: numpy, pylibjpeg-openjpeg, pylibjpeg-libjpeg\n",
      "\u001b[2K  Attempting uninstall: numpy\n",
      "\u001b[2K    Found existing installation: numpy 1.25.2\n",
      "\u001b[2K    Uninstalling numpy-1.25.2:\n",
      "\u001b[2K      Successfully uninstalled numpy-1.25.2\n",
      "\u001b[2K   \u001b[38;2;114;156;31m━━━━━━━━━━━━━━━━━━━━━━━━━━━━━━━━━━━━━━━━\u001b[0m \u001b[32m3/3\u001b[0m [pylibjpeg-libjpeg]\n",
      "\u001b[1A\u001b[2KSuccessfully installed numpy-2.2.6 pylibjpeg-libjpeg-2.3.0 pylibjpeg-openjpeg-2.4.0\n",
      "Note: you may need to restart the kernel to use updated packages.\n"
     ]
    }
   ],
   "source": [
    "#library installations\n",
    "%pip install pydicom SimpleITK numpy\n",
    "%pip install pylibjpeg pylibjpeg-libjpeg pylibjpeg-openjpeg\n"
   ]
  },
  {
   "cell_type": "code",
   "execution_count": 2,
   "id": "4c55c239-3a6c-4ec7-ba01-1d9addca0781",
   "metadata": {},
   "outputs": [
    {
     "name": "stdout",
     "output_type": "stream",
     "text": [
      "Requirement already satisfied: python-gdcm in /Users/Sidra/opt/anaconda3/envs/mlct/lib/python3.10/site-packages (3.0.25)\n",
      "Note: you may need to restart the kernel to use updated packages.\n"
     ]
    }
   ],
   "source": [
    "%pip install python-gdcm"
   ]
  },
  {
   "cell_type": "code",
   "execution_count": 3,
   "id": "baef3c76-cd4a-4cb7-a042-b99bd236ef86",
   "metadata": {},
   "outputs": [
    {
     "name": "stdout",
     "output_type": "stream",
     "text": [
      "Requirement already satisfied: scikit-image==0.22.0 in /Users/Sidra/opt/anaconda3/envs/mlct/lib/python3.10/site-packages (0.22.0)\n",
      "Requirement already satisfied: numpy>=1.22 in /Users/Sidra/opt/anaconda3/envs/mlct/lib/python3.10/site-packages (from scikit-image==0.22.0) (2.2.6)\n",
      "Requirement already satisfied: scipy>=1.8 in /Users/Sidra/opt/anaconda3/envs/mlct/lib/python3.10/site-packages (from scikit-image==0.22.0) (1.15.3)\n",
      "Requirement already satisfied: networkx>=2.8 in /Users/Sidra/opt/anaconda3/envs/mlct/lib/python3.10/site-packages (from scikit-image==0.22.0) (3.4.2)\n",
      "Requirement already satisfied: pillow>=9.0.1 in /Users/Sidra/opt/anaconda3/envs/mlct/lib/python3.10/site-packages (from scikit-image==0.22.0) (11.3.0)\n",
      "Requirement already satisfied: imageio>=2.27 in /Users/Sidra/opt/anaconda3/envs/mlct/lib/python3.10/site-packages (from scikit-image==0.22.0) (2.37.0)\n",
      "Requirement already satisfied: tifffile>=2022.8.12 in /Users/Sidra/opt/anaconda3/envs/mlct/lib/python3.10/site-packages (from scikit-image==0.22.0) (2025.5.10)\n",
      "Requirement already satisfied: packaging>=21 in /Users/Sidra/opt/anaconda3/envs/mlct/lib/python3.10/site-packages (from scikit-image==0.22.0) (25.0)\n",
      "Requirement already satisfied: lazy_loader>=0.3 in /Users/Sidra/opt/anaconda3/envs/mlct/lib/python3.10/site-packages (from scikit-image==0.22.0) (0.4)\n",
      "Note: you may need to restart the kernel to use updated packages.\n"
     ]
    }
   ],
   "source": [
    "%pip install scikit-image==0.22.0"
   ]
  },
  {
   "cell_type": "code",
   "execution_count": 4,
   "id": "f9edde9a-477e-4b72-a48f-5ad12304d19d",
   "metadata": {},
   "outputs": [
    {
     "name": "stdout",
     "output_type": "stream",
     "text": [
      "Requirement already satisfied: torch in /Users/Sidra/opt/anaconda3/envs/mlct/lib/python3.10/site-packages (2.2.2)\n",
      "Requirement already satisfied: torchvision in /Users/Sidra/opt/anaconda3/envs/mlct/lib/python3.10/site-packages (0.17.2)\n",
      "Requirement already satisfied: torchaudio in /Users/Sidra/opt/anaconda3/envs/mlct/lib/python3.10/site-packages (2.2.2)\n",
      "Requirement already satisfied: filelock in /Users/Sidra/opt/anaconda3/envs/mlct/lib/python3.10/site-packages (from torch) (3.18.0)\n",
      "Requirement already satisfied: typing-extensions>=4.8.0 in /Users/Sidra/opt/anaconda3/envs/mlct/lib/python3.10/site-packages (from torch) (4.12.2)\n",
      "Requirement already satisfied: sympy in /Users/Sidra/opt/anaconda3/envs/mlct/lib/python3.10/site-packages (from torch) (1.14.0)\n",
      "Requirement already satisfied: networkx in /Users/Sidra/opt/anaconda3/envs/mlct/lib/python3.10/site-packages (from torch) (3.4.2)\n",
      "Requirement already satisfied: jinja2 in /Users/Sidra/opt/anaconda3/envs/mlct/lib/python3.10/site-packages (from torch) (3.1.6)\n",
      "Requirement already satisfied: fsspec in /Users/Sidra/opt/anaconda3/envs/mlct/lib/python3.10/site-packages (from torch) (2025.5.1)\n",
      "Requirement already satisfied: numpy in /Users/Sidra/opt/anaconda3/envs/mlct/lib/python3.10/site-packages (from torchvision) (2.2.6)\n",
      "Requirement already satisfied: pillow!=8.3.*,>=5.3.0 in /Users/Sidra/opt/anaconda3/envs/mlct/lib/python3.10/site-packages (from torchvision) (11.3.0)\n",
      "Requirement already satisfied: MarkupSafe>=2.0 in /Users/Sidra/opt/anaconda3/envs/mlct/lib/python3.10/site-packages (from jinja2->torch) (3.0.2)\n",
      "Requirement already satisfied: mpmath<1.4,>=1.1.0 in /Users/Sidra/opt/anaconda3/envs/mlct/lib/python3.10/site-packages (from sympy->torch) (1.3.0)\n",
      "Note: you may need to restart the kernel to use updated packages.\n"
     ]
    }
   ],
   "source": [
    "%pip install torch torchvision torchaudio"
   ]
  },
  {
   "cell_type": "code",
   "execution_count": 5,
   "id": "2205b0d8-8ef7-4526-8ee8-88220e76093e",
   "metadata": {},
   "outputs": [
    {
     "name": "stdout",
     "output_type": "stream",
     "text": [
      "Collecting numpy==1.25.2\n",
      "  Using cached numpy-1.25.2-cp310-cp310-macosx_10_9_x86_64.whl.metadata (5.6 kB)\n",
      "Collecting scikit-image==0.22.0\n",
      "  Using cached scikit_image-0.22.0-cp310-cp310-macosx_10_9_x86_64.whl.metadata (13 kB)\n",
      "Collecting scipy>=1.8 (from scikit-image==0.22.0)\n",
      "  Using cached scipy-1.15.3-cp310-cp310-macosx_10_13_x86_64.whl.metadata (61 kB)\n",
      "Collecting networkx>=2.8 (from scikit-image==0.22.0)\n",
      "  Using cached networkx-3.4.2-py3-none-any.whl.metadata (6.3 kB)\n",
      "Collecting pillow>=9.0.1 (from scikit-image==0.22.0)\n",
      "  Using cached pillow-11.3.0-cp310-cp310-macosx_10_10_x86_64.whl.metadata (9.0 kB)\n",
      "Collecting imageio>=2.27 (from scikit-image==0.22.0)\n",
      "  Using cached imageio-2.37.0-py3-none-any.whl.metadata (5.2 kB)\n",
      "Collecting tifffile>=2022.8.12 (from scikit-image==0.22.0)\n",
      "  Using cached tifffile-2025.5.10-py3-none-any.whl.metadata (31 kB)\n",
      "Collecting packaging>=21 (from scikit-image==0.22.0)\n",
      "  Using cached packaging-25.0-py3-none-any.whl.metadata (3.3 kB)\n",
      "Collecting lazy_loader>=0.3 (from scikit-image==0.22.0)\n",
      "  Using cached lazy_loader-0.4-py3-none-any.whl.metadata (7.6 kB)\n",
      "Using cached numpy-1.25.2-cp310-cp310-macosx_10_9_x86_64.whl (20.8 MB)\n",
      "Using cached scikit_image-0.22.0-cp310-cp310-macosx_10_9_x86_64.whl (13.9 MB)\n",
      "Using cached imageio-2.37.0-py3-none-any.whl (315 kB)\n",
      "Using cached lazy_loader-0.4-py3-none-any.whl (12 kB)\n",
      "Using cached networkx-3.4.2-py3-none-any.whl (1.7 MB)\n",
      "Using cached packaging-25.0-py3-none-any.whl (66 kB)\n",
      "Using cached pillow-11.3.0-cp310-cp310-macosx_10_10_x86_64.whl (5.3 MB)\n",
      "Using cached scipy-1.15.3-cp310-cp310-macosx_10_13_x86_64.whl (38.7 MB)\n",
      "Using cached tifffile-2025.5.10-py3-none-any.whl (226 kB)\n",
      "Installing collected packages: pillow, packaging, numpy, networkx, tifffile, scipy, lazy_loader, imageio, scikit-image\n",
      "\u001b[2K  Attempting uninstall: pillow\n",
      "\u001b[2K    Found existing installation: pillow 11.3.0\n",
      "\u001b[2K    Uninstalling pillow-11.3.0:\n",
      "\u001b[2K      Successfully uninstalled pillow-11.3.0\n",
      "\u001b[2K  Attempting uninstall: packaging━━━━━━━━━━━━━━━━━━━━━\u001b[0m \u001b[32m0/9\u001b[0m [pillow]\n",
      "\u001b[2K    Found existing installation: packaging 25.0━━━\u001b[0m \u001b[32m0/9\u001b[0m [pillow]\n",
      "\u001b[2K    Uninstalling packaging-25.0:━━━━━━━━━━━━━━━━━━\u001b[0m \u001b[32m0/9\u001b[0m [pillow]\n",
      "\u001b[2K      Successfully uninstalled packaging-25.0━━━━━\u001b[0m \u001b[32m0/9\u001b[0m [pillow]\n",
      "\u001b[2K  Attempting uninstall: numpy━━━━━━━━━━━━━━━━━━━━━\u001b[0m \u001b[32m0/9\u001b[0m [pillow]\n",
      "\u001b[2K    Found existing installation: numpy 2.2.6━━━━━━\u001b[0m \u001b[32m0/9\u001b[0m [pillow]\n",
      "\u001b[2K    Uninstalling numpy-2.2.6:\u001b[0m\u001b[38;2;249;38;114m╸\u001b[0m\u001b[38;5;237m━━━━━━━━━━━━━━━━━━━━━━━━━━━━━━━\u001b[0m \u001b[32m2/9\u001b[0m [numpy]\n",
      "\u001b[2K      Successfully uninstalled numpy-2.2.6;114m╸\u001b[0m\u001b[38;5;237m━━━━━━━━━━━━━━━━━━━━━━━━━━━━━━━\u001b[0m \u001b[32m2/9\u001b[0m [numpy]\n",
      "\u001b[2K  Attempting uninstall: networkxm\u001b[38;2;249;38;114m╸\u001b[0m\u001b[38;5;237m━━━━━━━━━━━━━━━━━━━━━━━━━━━━━━━\u001b[0m \u001b[32m2/9\u001b[0m [numpy]\n",
      "\u001b[2K    Found existing installation: networkx 3.4.2╸\u001b[0m\u001b[38;5;237m━━━━━━━━━━━━━━━━━━━━━━━━━━━━━━━\u001b[0m \u001b[32m2/9\u001b[0m [numpy]\n",
      "\u001b[2K    Uninstalling networkx-3.4.2:8;2;249;38;114m╸\u001b[0m\u001b[38;5;237m━━━━━━━━━━━━━━━━━━━━━━━━━━━━━━━\u001b[0m \u001b[32m2/9\u001b[0m [numpy]\n",
      "\u001b[2K      Successfully uninstalled networkx-3.4.24m╸\u001b[0m\u001b[38;5;237m━━━━━━━━━━━━━━━━━━━━━━━━━━━━━━━\u001b[0m \u001b[32m2/9\u001b[0m [numpy]\n",
      "\u001b[2K  Attempting uninstall: tifffile━━\u001b[0m\u001b[38;5;237m╺\u001b[0m\u001b[38;5;237m━━━━━━━━━━━━━━━━━━━━━━━━━━\u001b[0m \u001b[32m3/9\u001b[0m [networkx]\n",
      "\u001b[2K    Found existing installation: tifffile 2025.5.10[38;5;237m━━━━━━━━━━━━━━━━━━━━━━━━━━\u001b[0m \u001b[32m3/9\u001b[0m [networkx]\n",
      "\u001b[2K    Uninstalling tifffile-2025.5.10:38;5;237m╺\u001b[0m\u001b[38;5;237m━━━━━━━━━━━━━━━━━━━━━━━━━━\u001b[0m \u001b[32m3/9\u001b[0m [networkx]\n",
      "\u001b[2K      Successfully uninstalled tifffile-2025.5.10m\u001b[38;5;237m━━━━━━━━━━━━━━━━━━━━━━━━━━\u001b[0m \u001b[32m3/9\u001b[0m [networkx]\n",
      "\u001b[2K  Attempting uninstall: scipy━━━━━━━━━\u001b[0m\u001b[38;2;249;38;114m╸\u001b[0m\u001b[38;5;237m━━━━━━━━━━━━━━━━━━━━━━\u001b[0m \u001b[32m4/9\u001b[0m [tifffile]\n",
      "\u001b[2K    Found existing installation: scipy 1.15.3249;38;114m╸\u001b[0m\u001b[38;5;237m━━━━━━━━━━━━━━━━━━━━━━\u001b[0m \u001b[32m4/9\u001b[0m [tifffile]\n",
      "\u001b[2K    Uninstalling scipy-1.15.3:━━━━\u001b[0m\u001b[38;2;249;38;114m╸\u001b[0m\u001b[38;5;237m━━━━━━━━━━━━━━━━━━━━━━\u001b[0m \u001b[32m4/9\u001b[0m [tifffile]\n",
      "\u001b[2K      Successfully uninstalled scipy-1.15.32;249;38;114m╸\u001b[0m\u001b[38;5;237m━━━━━━━━━━━━━━━━━━━━━━\u001b[0m \u001b[32m4/9\u001b[0m [tifffile]\n",
      "\u001b[2K  Attempting uninstall: lazy_loader━━━━━━━━\u001b[0m\u001b[38;5;237m╺\u001b[0m\u001b[38;5;237m━━━━━━━━━━━━━━━━━\u001b[0m \u001b[32m5/9\u001b[0m [scipy]ffile]\n",
      "\u001b[2K    Found existing installation: lazy_loader 0.45;237m╺\u001b[0m\u001b[38;5;237m━━━━━━━━━━━━━━━━━\u001b[0m \u001b[32m5/9\u001b[0m [scipy]\n",
      "\u001b[2K    Uninstalling lazy_loader-0.4:━━━━━━\u001b[0m\u001b[38;5;237m╺\u001b[0m\u001b[38;5;237m━━━━━━━━━━━━━━━━━\u001b[0m \u001b[32m5/9\u001b[0m [scipy]\n",
      "\u001b[2K      Successfully uninstalled lazy_loader-0.48;5;237m╺\u001b[0m\u001b[38;5;237m━━━━━━━━━━━━━━━━━\u001b[0m \u001b[32m5/9\u001b[0m [scipy]\n",
      "\u001b[2K  Attempting uninstall: imageio━━━━━━━━\u001b[0m\u001b[38;5;237m╺\u001b[0m\u001b[38;5;237m━━━━━━━━━━━━━━━━━\u001b[0m \u001b[32m5/9\u001b[0m [scipy]\n",
      "\u001b[2K    Found existing installation: imageio 2.37.0;5;237m╺\u001b[0m\u001b[38;5;237m━━━━━━━━━━━━━━━━━\u001b[0m \u001b[32m5/9\u001b[0m [scipy]\n",
      "\u001b[2K    Uninstalling imageio-2.37.0:━━━━━━━\u001b[0m\u001b[38;5;237m╺\u001b[0m\u001b[38;5;237m━━━━━━━━━━━━━━━━━\u001b[0m \u001b[32m5/9\u001b[0m [scipy]\n",
      "\u001b[2K      Successfully uninstalled imageio-2.37.038;5;237m╺\u001b[0m\u001b[38;5;237m━━━━━━━━━━━━━━━━━\u001b[0m \u001b[32m5/9\u001b[0m [scipy]\n",
      "\u001b[2K  Attempting uninstall: scikit-image━━━━━━━━━━━━━━━━\u001b[0m\u001b[38;5;237m╺\u001b[0m\u001b[38;5;237m━━━━━━━━\u001b[0m \u001b[32m7/9\u001b[0m [imageio]\n",
      "\u001b[2K    Found existing installation: scikit-image 0.22.0\u001b[38;5;237m╺\u001b[0m\u001b[38;5;237m━━━━━━━━\u001b[0m \u001b[32m7/9\u001b[0m [imageio]\n",
      "\u001b[2K    Uninstalling scikit-image-0.22.0:━━━━━━━━━━━\u001b[0m\u001b[38;5;237m╺\u001b[0m\u001b[38;5;237m━━━━━━━━\u001b[0m \u001b[32m7/9\u001b[0m [imageio]\n",
      "\u001b[2K      Successfully uninstalled scikit-image-0.22.00m\u001b[38;5;237m╺\u001b[0m\u001b[38;5;237m━━━━━━━━\u001b[0m \u001b[32m7/9\u001b[0m [imageio]\n",
      "\u001b[2K   \u001b[38;2;114;156;31m━━━━━━━━━━━━━━━━━━━━━━━━━━━━━━━━━━━━━━━━\u001b[0m \u001b[32m9/9\u001b[0m [scikit-image]m━━━━\u001b[0m \u001b[32m8/9\u001b[0m [scikit-image]\n",
      "\u001b[1A\u001b[2K\u001b[31mERROR: pip's dependency resolver does not currently take into account all the packages that are installed. This behaviour is the source of the following dependency conflicts.\n",
      "pylibjpeg-libjpeg 2.3.0 requires numpy<3.0,>=2.0, but you have numpy 1.25.2 which is incompatible.\n",
      "pylibjpeg-openjpeg 2.4.0 requires numpy<3.0,>=2.0, but you have numpy 1.25.2 which is incompatible.\u001b[0m\u001b[31m\n",
      "\u001b[0mSuccessfully installed imageio-2.37.0 lazy_loader-0.4 networkx-3.4.2 numpy-1.25.2 packaging-25.0 pillow-11.3.0 scikit-image-0.22.0 scipy-1.15.3 tifffile-2025.5.10\n",
      "Note: you may need to restart the kernel to use updated packages.\n"
     ]
    }
   ],
   "source": [
    "pip install --force-reinstall numpy==1.25.2 scikit-image==0.22.0"
   ]
  },
  {
   "cell_type": "code",
   "execution_count": 6,
   "id": "1869af28-8ea9-449c-8f9f-76aa50c3d275",
   "metadata": {},
   "outputs": [],
   "source": [
    "import os\n",
    "import pydicom\n",
    "import numpy as np\n",
    "import SimpleITK as sitk\n",
    "\n",
    "def load_dicom_volume(folder_path):\n",
    "    # Load all DICOM files in the folder\n",
    "    dicoms = []\n",
    "    for filename in os.listdir(folder_path):\n",
    "        if filename.lower().endswith('.dcm'):\n",
    "            dicom = pydicom.dcmread(os.path.join(folder_path, filename))\n",
    "            dicoms.append(dicom)\n",
    "\n",
    "    # Sort slices by ImagePositionPatient or InstanceNumber\n",
    "    dicoms.sort(key=lambda x: float(x.ImagePositionPatient[2]) if 'ImagePositionPatient' in x else int(x.InstanceNumber))\n",
    "\n",
    "    # Stack slices into 3D array\n",
    "    image_stack = np.stack([d.pixel_array for d in dicoms])\n",
    "\n",
    "    # Get spacing info\n",
    "    try:\n",
    "        spacing = list(map(float, dicoms[0].PixelSpacing))  # in-plane spacing\n",
    "        slice_thickness = float(dicoms[0].SliceThickness)\n",
    "        spacing.append(slice_thickness)\n",
    "    except:\n",
    "        spacing = [1.0, 1.0, 1.0]  # fallback if tags missing\n",
    "\n",
    "    return image_stack, spacing"
   ]
  },
  {
   "cell_type": "code",
   "execution_count": 7,
   "id": "ea73117e-4e69-4b6b-9e28-ede1f9ec873e",
   "metadata": {},
   "outputs": [],
   "source": [
    "def resample_volume(volume, original_spacing, new_spacing=[1.0, 1.0, 1.0]):\n",
    "    original_spacing = np.array(original_spacing[::-1])  # DICOM order: z, y, x\n",
    "    new_spacing = np.array(new_spacing)\n",
    "    \n",
    "    resize_factor = original_spacing / new_spacing\n",
    "    new_shape = np.round(np.array(volume.shape) * resize_factor).astype(int)\n",
    "\n",
    "    volume_sitk = sitk.GetImageFromArray(volume)\n",
    "    volume_sitk.SetSpacing(original_spacing.tolist())\n",
    "\n",
    "    resampler = sitk.ResampleImageFilter()\n",
    "    resampler.SetOutputSpacing(new_spacing.tolist())\n",
    "    resampler.SetSize([int(s) for s in new_shape[::-1]])\n",
    "    resampler.SetInterpolator(sitk.sitkLinear)\n",
    "\n",
    "    resampled = resampler.Execute(volume_sitk)\n",
    "    return sitk.GetArrayFromImage(resampled)"
   ]
  },
  {
   "cell_type": "code",
   "execution_count": 8,
   "id": "826762f0-bfb4-4f74-98e2-45747cd80f09",
   "metadata": {},
   "outputs": [],
   "source": [
    "def normalize_ct(volume, clip_min=-1000, clip_max=400):\n",
    "    volume = np.clip(volume, clip_min, clip_max)\n",
    "    volume = (volume - clip_min) / (clip_max - clip_min)  # normalize to [0, 1]\n",
    "    return volume.astype(np.float32)"
   ]
  },
  {
   "cell_type": "code",
   "execution_count": 9,
   "id": "d89452c5-4f7f-4719-9c53-ba6ec5971c4b",
   "metadata": {},
   "outputs": [],
   "source": [
    "def load_and_process_dicom(folder_path):\n",
    "    volume, spacing = load_dicom_volume(folder_path)\n",
    "    resampled = resample_volume(volume, spacing, [1.0, 1.0, 1.0])\n",
    "    normalized = normalize_ct(resampled)\n",
    "    return normalized  # shape: (D, H, W)"
   ]
  },
  {
   "cell_type": "code",
   "execution_count": 10,
   "id": "bd13109d-090f-4966-8907-43d5755df3d9",
   "metadata": {},
   "outputs": [],
   "source": [
    "import numpy as np\n",
    "\n",
    "def get_10_montage_slices(volume):\n",
    "    \"\"\"Divide the volume into 10 sections and sample the center slice from each (sequentially)\"\"\"\n",
    "    depth = volume.shape[0]  # z-dimension (axial slices)\n",
    "    section_size = depth // 10\n",
    "    slices = []\n",
    "\n",
    "    for i in range(10):\n",
    "        start = i * section_size\n",
    "        end = (i + 1) * section_size if i < 9 else depth\n",
    "        center_idx = (start + end) // 2\n",
    "        slices.append(volume[center_idx])\n",
    "\n",
    "    montage = np.stack(slices, axis=0)  # shape: (10, H, W), ordered top→bottom\n",
    "    return montage"
   ]
  },
  {
   "cell_type": "code",
   "execution_count": 11,
   "id": "94707409-b6bf-4e73-998a-4af4632df6a1",
   "metadata": {},
   "outputs": [],
   "source": [
    "from skimage.transform import resize\n",
    "\n",
    "def preprocess_slice(slice_2d):\n",
    "    slice_2d = np.clip(slice_2d, -1000, 400)\n",
    "    slice_2d = (slice_2d + 1000) / 1400\n",
    "    slice_2d = resize(slice_2d, (224, 224), mode='reflect', anti_aliasing=True)\n",
    "    return slice_2d.astype(np.float32)"
   ]
  },
  {
   "cell_type": "code",
   "execution_count": 12,
   "id": "0295d64c-1087-4299-b596-bc14cf39b3e1",
   "metadata": {},
   "outputs": [],
   "source": [
    "def create_montage_tensor(volume):\n",
    "    slices = get_10_montage_slices(volume)\n",
    "    slices = [preprocess_slice(s) for s in slices]\n",
    "    montage = np.stack(slices)  # shape: (10, H, W)\n",
    "    montage = montage[:, np.newaxis, :, :]  # (10, 1, H, W)\n",
    "    montage = np.transpose(montage, (1, 0, 2, 3))  # (1, 10, H, W)\n",
    "    tensor = torch.tensor(montage, dtype=torch.float32)  # (1, 10, 224, 224)\n",
    "    tensor = tensor.unsqueeze(0)  # add batch dim: (B=1, C=1, D=10, H, W)\n",
    "    return tensor"
   ]
  },
  {
   "cell_type": "code",
   "execution_count": 14,
   "id": "8d4574e9-3651-486a-8ed9-6430c62db9f2",
   "metadata": {},
   "outputs": [
    {
     "name": "stdout",
     "output_type": "stream",
     "text": [
      "Collecting pandas\n",
      "  Downloading pandas-2.3.0-cp310-cp310-macosx_10_9_x86_64.whl.metadata (91 kB)\n",
      "Requirement already satisfied: numpy>=1.22.4 in /Users/Sidra/opt/anaconda3/envs/mlct/lib/python3.10/site-packages (from pandas) (1.25.2)\n",
      "Requirement already satisfied: python-dateutil>=2.8.2 in /Users/Sidra/opt/anaconda3/envs/mlct/lib/python3.10/site-packages (from pandas) (2.9.0.post0)\n",
      "Collecting pytz>=2020.1 (from pandas)\n",
      "  Downloading pytz-2025.2-py2.py3-none-any.whl.metadata (22 kB)\n",
      "Collecting tzdata>=2022.7 (from pandas)\n",
      "  Downloading tzdata-2025.2-py2.py3-none-any.whl.metadata (1.4 kB)\n",
      "Requirement already satisfied: six>=1.5 in /Users/Sidra/opt/anaconda3/envs/mlct/lib/python3.10/site-packages (from python-dateutil>=2.8.2->pandas) (1.17.0)\n",
      "Downloading pandas-2.3.0-cp310-cp310-macosx_10_9_x86_64.whl (11.5 MB)\n",
      "\u001b[2K   \u001b[38;2;114;156;31m━━━━━━━━━━━━━━━━━━━━━━━━━━━━━━━━━━━━━━━━\u001b[0m \u001b[32m11.5/11.5 MB\u001b[0m \u001b[31m24.4 MB/s\u001b[0m eta \u001b[36m0:00:00\u001b[0m MB/s\u001b[0m eta \u001b[36m0:00:01\u001b[0m\n",
      "\u001b[?25hDownloading pytz-2025.2-py2.py3-none-any.whl (509 kB)\n",
      "Downloading tzdata-2025.2-py2.py3-none-any.whl (347 kB)\n",
      "Installing collected packages: pytz, tzdata, pandas\n",
      "\u001b[2K   \u001b[38;2;114;156;31m━━━━━━━━━━━━━━━━━━━━━━━━━━━━━━━━━━━━━━━━\u001b[0m \u001b[32m3/3\u001b[0m [pandas]━━━━━━━━━━━\u001b[0m \u001b[32m2/3\u001b[0m [pandas]\n",
      "\u001b[1A\u001b[2KSuccessfully installed pandas-2.3.0 pytz-2025.2 tzdata-2025.2\n",
      "Note: you may need to restart the kernel to use updated packages.\n"
     ]
    }
   ],
   "source": [
    "%pip install pandas"
   ]
  },
  {
   "cell_type": "code",
   "execution_count": 15,
   "id": "0a7ad656-7035-4d66-8a2b-f28da5975ccc",
   "metadata": {},
   "outputs": [],
   "source": [
    "import torch\n",
    "from torch.utils.data import Dataset\n",
    "import pandas as pd\n",
    "\n",
    "class DicomMontageDataset(Dataset):\n",
    "    def __init__(self, csv_file, root_dir, transform=None):\n",
    "        self.labels_df = pd.read_csv(csv_file)\n",
    "        self.root_dir = root_dir\n",
    "        self.transform = transform\n",
    "\n",
    "    def __len__(self):\n",
    "        return len(self.labels_df)\n",
    "\n",
    "    def __getitem__(self, idx):\n",
    "        patient_id = self.labels_df.iloc[idx]['patient_id']\n",
    "        label = self.labels_df.iloc[idx]['label']\n",
    "        dicom_folder = os.path.join(self.root_dir, patient_id)\n",
    "        \n",
    "        # Process volume\n",
    "        volume = load_and_process_dicom(dicom_folder)\n",
    "        tensor = create_montage_tensor(volume)\n",
    "\n",
    "        if self.transform:\n",
    "            tensor = self.transform(tensor)\n",
    "            \n",
    "        return tensor.squeeze(0), torch.tensor(label, dtype=torch.long)"
   ]
  },
  {
   "cell_type": "code",
   "execution_count": 17,
   "id": "c94b1a21-3f57-4974-aa22-4d39faa76458",
   "metadata": {},
   "outputs": [
    {
     "name": "stdout",
     "output_type": "stream",
     "text": [
      "Collecting scikit-learn\n",
      "  Downloading scikit_learn-1.7.0-cp310-cp310-macosx_10_9_x86_64.whl.metadata (31 kB)\n",
      "Requirement already satisfied: numpy>=1.22.0 in /Users/Sidra/opt/anaconda3/envs/mlct/lib/python3.10/site-packages (from scikit-learn) (1.25.2)\n",
      "Requirement already satisfied: scipy>=1.8.0 in /Users/Sidra/opt/anaconda3/envs/mlct/lib/python3.10/site-packages (from scikit-learn) (1.15.3)\n",
      "Collecting joblib>=1.2.0 (from scikit-learn)\n",
      "  Downloading joblib-1.5.1-py3-none-any.whl.metadata (5.6 kB)\n",
      "Collecting threadpoolctl>=3.1.0 (from scikit-learn)\n",
      "  Downloading threadpoolctl-3.6.0-py3-none-any.whl.metadata (13 kB)\n",
      "Downloading scikit_learn-1.7.0-cp310-cp310-macosx_10_9_x86_64.whl (11.7 MB)\n",
      "\u001b[2K   \u001b[38;2;114;156;31m━━━━━━━━━━━━━━━━━━━━━━━━━━━━━━━━━━━━━━━━\u001b[0m \u001b[32m11.7/11.7 MB\u001b[0m \u001b[31m17.7 MB/s\u001b[0m eta \u001b[36m0:00:00\u001b[0m31m17.3 MB/s\u001b[0m eta \u001b[36m0:00:01\u001b[0m\n",
      "Downloading joblib-1.5.1-py3-none-any.whl (307 kB)\n",
      "Downloading threadpoolctl-3.6.0-py3-none-any.whl (18 kB)\n",
      "Installing collected packages: threadpoolctl, joblib, scikit-learn\n",
      "\u001b[2K   \u001b[38;2;114;156;31m━━━━━━━━━━━━━━━━━━━━━━━━━━━━━━━━━━━━━━━━\u001b[0m \u001b[32m3/3\u001b[0m [scikit-learn]━━━━━\u001b[0m \u001b[32m2/3\u001b[0m [scikit-learn]\n",
      "Successfully installed joblib-1.5.1 scikit-learn-1.7.0 threadpoolctl-3.6.0\n",
      "Note: you may need to restart the kernel to use updated packages.\n"
     ]
    }
   ],
   "source": [
    "%pip install scikit-learn"
   ]
  },
  {
   "cell_type": "code",
   "execution_count": 21,
   "id": "4daacc2f-bf3d-4db5-a828-7200c12cbc01",
   "metadata": {},
   "outputs": [
    {
     "name": "stdout",
     "output_type": "stream",
     "text": [
      "Collecting tqdm\n",
      "  Downloading tqdm-4.67.1-py3-none-any.whl.metadata (57 kB)\n",
      "Downloading tqdm-4.67.1-py3-none-any.whl (78 kB)\n",
      "Installing collected packages: tqdm\n",
      "Successfully installed tqdm-4.67.1\n",
      "Note: you may need to restart the kernel to use updated packages.\n"
     ]
    }
   ],
   "source": [
    "%pip install tqdm"
   ]
  },
  {
   "cell_type": "code",
   "execution_count": 22,
   "id": "46fdc2f6-302a-42a6-b3da-35df86538537",
   "metadata": {},
   "outputs": [
    {
     "name": "stdout",
     "output_type": "stream",
     "text": [
      "Extracting labels and filtering corrupted samples:\n"
     ]
    },
    {
     "name": "stderr",
     "output_type": "stream",
     "text": [
      "Corrupt JPEG data: bad Huffman code█████████████████████████████████████████████████████████████████████████████████                      | 147/176 [05:06<00:54,  1.89s/it]\n",
      "Unsupported marker type 0xfa\n",
      " 84%|███████████████████████████████████████████████████████████████████████████████████████████████████████████████▊                     | 148/176 [05:08<00:58,  2.08s/it]"
     ]
    },
    {
     "name": "stdout",
     "output_type": "stream",
     "text": [
      "Warning: Skipping patient index 147 due to error: Unable to decode as exceptions were raised by all available plugins:\n",
      "  gdcm: 'NoneType' object has no attribute 'encode'\n",
      "  pylibjpeg: libjpeg error code '-1038' returned from Decode(): A misplaced marker segment was found - invalid stream, found invalid huffman code in entropy coded segment\n"
     ]
    },
    {
     "name": "stderr",
     "output_type": "stream",
     "text": [
      "100%|█████████████████████████████████████████████████████████████████████████████████████████████████████████████████████████████████████| 176/176 [06:11<00:00,  2.11s/it]\n"
     ]
    }
   ],
   "source": [
    "#partition the dataset into train:validate:test 75%:12.5%:12.5%\n",
    "\n",
    "from torch.utils.data import DataLoader, Subset\n",
    "from sklearn.model_selection import StratifiedShuffleSplit\n",
    "from tqdm import tqdm\n",
    "\n",
    "# Wrap dataset access in try-except to catch loading errors\n",
    "def safe_get_label(dataset, idx):\n",
    "    try:\n",
    "        _, label = dataset[idx]\n",
    "        return label\n",
    "    except Exception as e:\n",
    "        # Attempt to get patient ID if available; adjust attribute as per your dataset\n",
    "        patient_id = getattr(dataset, 'patient_ids', None)\n",
    "        pid = patient_id[idx] if patient_id is not None else f\"index {idx}\"\n",
    "        print(f\"Warning: Skipping patient {pid} due to error: {e}\")\n",
    "        return None\n",
    "\n",
    "# full dataset and loader (keep loader for convenience, may skip corrupted later)\n",
    "dataset = DicomMontageDataset(csv_file='dataset/labels.csv', root_dir='dataset')\n",
    "loader = DataLoader(dataset, batch_size=4, shuffle=True, num_workers=4)\n",
    "\n",
    "# Collect valid indices and labels with error handling\n",
    "valid_indices = []\n",
    "valid_labels = []\n",
    "print(\"Extracting labels and filtering corrupted samples:\")\n",
    "for idx in tqdm(range(len(dataset))):\n",
    "    label = safe_get_label(dataset, idx)\n",
    "    if label is not None:\n",
    "        valid_indices.append(idx)\n",
    "        valid_labels.append(label)\n",
    "\n",
    "# Now do stratified splits on filtered valid data only\n",
    "sss1 = StratifiedShuffleSplit(n_splits=1, test_size=0.25, random_state=42)\n",
    "for train_rel_idx, temp_rel_idx in sss1.split(X=valid_labels, y=valid_labels):\n",
    "    pass\n",
    "\n",
    "# Get absolute indices from relative\n",
    "train_idx = [valid_indices[i] for i in train_rel_idx]\n",
    "temp_idx = [valid_indices[i] for i in temp_rel_idx]\n",
    "\n",
    "# Split temp into val and test (50% each)\n",
    "temp_labels = [valid_labels[i] for i in temp_rel_idx]\n",
    "sss2 = StratifiedShuffleSplit(n_splits=1, test_size=0.5, random_state=42)\n",
    "for val_rel_idx, test_rel_idx in sss2.split(X=temp_labels, y=temp_labels):\n",
    "    pass\n",
    "\n",
    "val_idx = [temp_idx[i] for i in val_rel_idx]\n",
    "test_idx = [temp_idx[i] for i in test_rel_idx]\n",
    "\n",
    "# Create subsets using filtered and split indices\n",
    "train_dataset = Subset(dataset, train_idx)\n",
    "val_dataset = Subset(dataset, val_idx)\n",
    "test_dataset = Subset(dataset, test_idx)\n",
    "\n",
    "# Create DataLoaders\n",
    "train_loader = DataLoader(train_dataset, batch_size=8, shuffle=True)\n",
    "val_loader = DataLoader(val_dataset, batch_size=8, shuffle=False)\n",
    "test_loader = DataLoader(test_dataset, batch_size=8, shuffle=False)\n"
   ]
  },
  {
   "cell_type": "code",
   "execution_count": 24,
   "id": "56eb9516-df68-4ace-b97c-01b36f645ea7",
   "metadata": {},
   "outputs": [
    {
     "name": "stdout",
     "output_type": "stream",
     "text": [
      "Collecting monai\n",
      "  Downloading monai-1.5.0-py3-none-any.whl.metadata (13 kB)\n",
      "Requirement already satisfied: numpy<3.0,>=1.24 in /Users/Sidra/opt/anaconda3/envs/mlct/lib/python3.10/site-packages (from monai) (1.25.2)\n",
      "INFO: pip is looking at multiple versions of monai to determine which version is compatible with other requirements. This could take a while.\n",
      "  Downloading monai-1.4.0-py3-none-any.whl.metadata (11 kB)\n",
      "Requirement already satisfied: torch>=1.9 in /Users/Sidra/opt/anaconda3/envs/mlct/lib/python3.10/site-packages (from monai) (2.2.2)\n",
      "Requirement already satisfied: filelock in /Users/Sidra/opt/anaconda3/envs/mlct/lib/python3.10/site-packages (from torch>=1.9->monai) (3.18.0)\n",
      "Requirement already satisfied: typing-extensions>=4.8.0 in /Users/Sidra/opt/anaconda3/envs/mlct/lib/python3.10/site-packages (from torch>=1.9->monai) (4.12.2)\n",
      "Requirement already satisfied: sympy in /Users/Sidra/opt/anaconda3/envs/mlct/lib/python3.10/site-packages (from torch>=1.9->monai) (1.14.0)\n",
      "Requirement already satisfied: networkx in /Users/Sidra/opt/anaconda3/envs/mlct/lib/python3.10/site-packages (from torch>=1.9->monai) (3.4.2)\n",
      "Requirement already satisfied: jinja2 in /Users/Sidra/opt/anaconda3/envs/mlct/lib/python3.10/site-packages (from torch>=1.9->monai) (3.1.6)\n",
      "Requirement already satisfied: fsspec in /Users/Sidra/opt/anaconda3/envs/mlct/lib/python3.10/site-packages (from torch>=1.9->monai) (2025.5.1)\n",
      "Requirement already satisfied: MarkupSafe>=2.0 in /Users/Sidra/opt/anaconda3/envs/mlct/lib/python3.10/site-packages (from jinja2->torch>=1.9->monai) (3.0.2)\n",
      "Requirement already satisfied: mpmath<1.4,>=1.1.0 in /Users/Sidra/opt/anaconda3/envs/mlct/lib/python3.10/site-packages (from sympy->torch>=1.9->monai) (1.3.0)\n",
      "Downloading monai-1.4.0-py3-none-any.whl (1.5 MB)\n",
      "\u001b[2K   \u001b[38;2;114;156;31m━━━━━━━━━━━━━━━━━━━━━━━━━━━━━━━━━━━━━━━━\u001b[0m \u001b[32m1.5/1.5 MB\u001b[0m \u001b[31m21.9 MB/s\u001b[0m eta \u001b[36m0:00:00\u001b[0m\n",
      "Installing collected packages: monai\n",
      "Successfully installed monai-1.4.0\n",
      "Note: you may need to restart the kernel to use updated packages.\n"
     ]
    }
   ],
   "source": [
    "%pip install monai"
   ]
  },
  {
   "cell_type": "code",
   "execution_count": 27,
   "id": "79a586fc-5a6d-45ba-a910-19b169898c7c",
   "metadata": {},
   "outputs": [
    {
     "name": "stdout",
     "output_type": "stream",
     "text": [
      "Epoch 1/10, Train Loss: 1.4797, Train Accuracy: 93.89%\n",
      "Validation Loss: 0.2852, Validation Accuracy: 100.00%\n",
      "\n",
      "Epoch 2/10, Train Loss: 0.0149, Train Accuracy: 100.00%\n",
      "Validation Loss: 0.1153, Validation Accuracy: 100.00%\n",
      "\n",
      "Epoch 3/10, Train Loss: 0.0069, Train Accuracy: 100.00%\n",
      "Validation Loss: 0.0123, Validation Accuracy: 100.00%\n",
      "\n",
      "Epoch 4/10, Train Loss: 0.0049, Train Accuracy: 100.00%\n",
      "Validation Loss: 0.0012, Validation Accuracy: 100.00%\n",
      "\n",
      "Epoch 5/10, Train Loss: 0.0040, Train Accuracy: 100.00%\n",
      "Validation Loss: 0.0007, Validation Accuracy: 100.00%\n",
      "\n",
      "Epoch 6/10, Train Loss: 0.0034, Train Accuracy: 100.00%\n",
      "Validation Loss: 0.0006, Validation Accuracy: 100.00%\n",
      "\n",
      "Epoch 7/10, Train Loss: 0.0030, Train Accuracy: 100.00%\n",
      "Validation Loss: 0.0005, Validation Accuracy: 100.00%\n",
      "\n",
      "Epoch 8/10, Train Loss: 0.0027, Train Accuracy: 100.00%\n",
      "Validation Loss: 0.0005, Validation Accuracy: 100.00%\n",
      "\n",
      "Epoch 9/10, Train Loss: 0.0024, Train Accuracy: 100.00%\n",
      "Validation Loss: 0.0004, Validation Accuracy: 100.00%\n",
      "\n",
      "Epoch 10/10, Train Loss: 0.0022, Train Accuracy: 100.00%\n",
      "Validation Loss: 0.0004, Validation Accuracy: 100.00%\n",
      "\n"
     ]
    }
   ],
   "source": [
    "#Create the model\n",
    "\n",
    "from monai.networks.nets import SEResNet50\n",
    "import torch.nn as nn\n",
    "import torch\n",
    "\n",
    "# Load pretrained SE-ResNet50 3D\n",
    "# Create SE-ResNet50 3D model for binary classification\n",
    "model = SEResNet50(\n",
    "    spatial_dims=3,\n",
    "    in_channels=1,      # Use this instead of n_input_channels\n",
    "    num_classes=2       # For binary classification\n",
    ")\n",
    "\n",
    "# Optional: move to GPU\n",
    "device = torch.device(\"cuda\" if torch.cuda.is_available() else \"cpu\")\n",
    "model = model.to(device)\n",
    "\n",
    "optimizer = torch.optim.AdamW(model.parameters(), lr=1e-4)\n",
    "criterion = nn.CrossEntropyLoss()\n",
    "\n",
    "## Optionally freeze early layers to prevent fine tuning the whole network\n",
    "# for param in model.layer1.parameters():\n",
    "#     param.requires_grad = False\n",
    "\n",
    "num_epochs = 10\n",
    "\n",
    "for epoch in range(num_epochs):\n",
    "    # --- Training ---\n",
    "    model.train()\n",
    "    running_loss = 0.0\n",
    "    correct = 0\n",
    "    total = 0\n",
    "\n",
    "    for inputs, labels in train_loader:\n",
    "        inputs = inputs.to(device)  # (B, 1, 10, 224, 224)\n",
    "        labels = labels.to(device)\n",
    "\n",
    "        outputs = model(inputs)\n",
    "        loss = criterion(outputs, labels)\n",
    "\n",
    "        optimizer.zero_grad()\n",
    "        loss.backward()\n",
    "        optimizer.step()\n",
    "\n",
    "        running_loss += loss.item()\n",
    "        _, predicted = outputs.max(1)\n",
    "        correct += predicted.eq(labels).sum().item()\n",
    "        total += labels.size(0)\n",
    "\n",
    "    train_acc = 100 * correct / total\n",
    "    print(f\"Epoch {epoch+1}/{num_epochs}, Train Loss: {running_loss:.4f}, Train Accuracy: {train_acc:.2f}%\")\n",
    "\n",
    "    # --- Validation ---\n",
    "    model.eval()\n",
    "    val_loss = 0.0\n",
    "    val_correct = 0\n",
    "    val_total = 0\n",
    "\n",
    "    with torch.no_grad():\n",
    "        for val_inputs, val_labels in val_loader:\n",
    "            val_inputs = val_inputs.to(device)\n",
    "            val_labels = val_labels.to(device)\n",
    "\n",
    "            val_outputs = model(val_inputs)\n",
    "            loss = criterion(val_outputs, val_labels)\n",
    "\n",
    "            val_loss += loss.item()\n",
    "            _, val_predicted = val_outputs.max(1)\n",
    "            val_correct += val_predicted.eq(val_labels).sum().item()\n",
    "            val_total += val_labels.size(0)\n",
    "\n",
    "    val_acc = 100 * val_correct / val_total\n",
    "    print(f\"Validation Loss: {val_loss:.4f}, Validation Accuracy: {val_acc:.2f}%\\n\")\n"
   ]
  },
  {
   "cell_type": "code",
   "execution_count": 28,
   "id": "1b767466-fb14-4da5-8eb4-db575a5c98bb",
   "metadata": {},
   "outputs": [
    {
     "name": "stdout",
     "output_type": "stream",
     "text": [
      "Test Loss: 0.0001, Test Accuracy: 100.00%\n"
     ]
    },
    {
     "data": {
      "text/plain": [
       "(0.00013061173376627266, 100.0)"
      ]
     },
     "execution_count": 28,
     "metadata": {},
     "output_type": "execute_result"
    }
   ],
   "source": [
    "#Test the model \n",
    "def test_model(model, test_loader, criterion, device):\n",
    "    model.eval()  # Set model to evaluation mode\n",
    "    test_loss = 0.0\n",
    "    correct = 0\n",
    "    total = 0\n",
    "\n",
    "    with torch.no_grad():  # Disable gradient computation for speed\n",
    "        for inputs, labels in test_loader:\n",
    "            inputs, labels = inputs.to(device), labels.to(device)\n",
    "\n",
    "            outputs = model(inputs)\n",
    "            loss = criterion(outputs, labels)\n",
    "\n",
    "            test_loss += loss.item()\n",
    "            _, predicted = outputs.max(1)\n",
    "            correct += predicted.eq(labels).sum().item()\n",
    "            total += labels.size(0)\n",
    "\n",
    "    avg_loss = test_loss / len(test_loader)\n",
    "    accuracy = 100 * correct / total\n",
    "    print(f\"Test Loss: {avg_loss:.4f}, Test Accuracy: {accuracy:.2f}%\")\n",
    "    return avg_loss, accuracy\n",
    "\n",
    "test_model(model, test_loader, criterion, device)\n"
   ]
  },
  {
   "cell_type": "code",
   "execution_count": null,
   "id": "aafd7d13-bce6-4209-8230-d605e5e98bd5",
   "metadata": {},
   "outputs": [],
   "source": []
  }
 ],
 "metadata": {
  "kernelspec": {
   "display_name": "Python 3 (ipykernel)",
   "language": "python",
   "name": "python3"
  },
  "language_info": {
   "codemirror_mode": {
    "name": "ipython",
    "version": 3
   },
   "file_extension": ".py",
   "mimetype": "text/x-python",
   "name": "python",
   "nbconvert_exporter": "python",
   "pygments_lexer": "ipython3",
   "version": "3.10.18"
  }
 },
 "nbformat": 4,
 "nbformat_minor": 5
}
